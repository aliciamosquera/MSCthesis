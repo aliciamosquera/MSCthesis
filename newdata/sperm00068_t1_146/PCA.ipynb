{
 "cells": [
  {
   "cell_type": "code",
   "execution_count": 1,
   "id": "58fa371e",
   "metadata": {},
   "outputs": [],
   "source": [
    "#choose a time frame for the whole notebook\n",
    "time_frame = 89"
   ]
  },
  {
   "cell_type": "markdown",
   "id": "8a6720e0",
   "metadata": {},
   "source": [
    "# PCA of the head to find the eigenvectors"
   ]
  },
  {
   "cell_type": "code",
   "execution_count": 2,
   "id": "61a6e358",
   "metadata": {},
   "outputs": [
    {
     "ename": "ModuleNotFoundError",
     "evalue": "No module named 'cv2'",
     "output_type": "error",
     "traceback": [
      "\u001b[1;31m---------------------------------------------------------------------------\u001b[0m",
      "\u001b[1;31mModuleNotFoundError\u001b[0m                       Traceback (most recent call last)",
      "\u001b[1;32m~\\AppData\\Local\\Temp/ipykernel_4928/388526775.py\u001b[0m in \u001b[0;36m<module>\u001b[1;34m\u001b[0m\n\u001b[0;32m      1\u001b[0m \u001b[1;31m# Import packages\u001b[0m\u001b[1;33m\u001b[0m\u001b[1;33m\u001b[0m\u001b[1;33m\u001b[0m\u001b[0m\n\u001b[1;32m----> 2\u001b[1;33m \u001b[1;32mimport\u001b[0m \u001b[0mcv2\u001b[0m\u001b[1;33m\u001b[0m\u001b[1;33m\u001b[0m\u001b[0m\n\u001b[0m\u001b[0;32m      3\u001b[0m \u001b[1;32mimport\u001b[0m \u001b[0mcc3d\u001b[0m \u001b[1;31m#connected components in 3D\u001b[0m\u001b[1;33m\u001b[0m\u001b[1;33m\u001b[0m\u001b[0m\n\u001b[0;32m      4\u001b[0m \u001b[1;32mimport\u001b[0m \u001b[0mnumpy\u001b[0m \u001b[1;32mas\u001b[0m \u001b[0mnp\u001b[0m\u001b[1;33m\u001b[0m\u001b[1;33m\u001b[0m\u001b[0m\n\u001b[0;32m      5\u001b[0m \u001b[1;32mimport\u001b[0m \u001b[0mpandas\u001b[0m \u001b[1;32mas\u001b[0m \u001b[0mpd\u001b[0m\u001b[1;33m\u001b[0m\u001b[1;33m\u001b[0m\u001b[0m\n",
      "\u001b[1;31mModuleNotFoundError\u001b[0m: No module named 'cv2'"
     ]
    }
   ],
   "source": [
    "# Import packages\n",
    "import cv2\n",
    "import cc3d #connected components in 3D\n",
    "import numpy as np\n",
    "import pandas as pd\n",
    "from skimage import io, morphology\n",
    "import matplotlib.pyplot as plt\n",
    "from scipy import ndimage as ndi\n",
    "from mpl_toolkits.mplot3d import Axes3D\n",
    "import matplotlib.animation as animation\n",
    "%matplotlib notebook"
   ]
  },
  {
   "cell_type": "code",
   "execution_count": 3,
   "id": "486252d7",
   "metadata": {},
   "outputs": [],
   "source": [
    "# Define functions\n",
    "def read(filename):\n",
    "    volume_time = io.imread(filename)\n",
    "    t,z,x,y = volume_time.shape\n",
    "    return volume_time,t,z,x,y\n",
    "\n",
    "def connected_component_label_2D(img):\n",
    "    # Applying connected components\n",
    "    num_labels, labels, stats, centroids = cv2.connectedComponentsWithStats(img)\n",
    "    # Map component labels to hue val, 0-179 is the hue range in OpenCV\n",
    "    label_hue = np.uint8(179*labels/np.max(labels))\n",
    "    blank_ch = 255*np.ones_like(label_hue)\n",
    "    labeled_img = cv2.merge([label_hue, blank_ch, blank_ch])\n",
    "    # Converting cvt to BGR\n",
    "    labeled_img = cv2.cvtColor(labeled_img, cv2.COLOR_HSV2BGR)\n",
    "    # set bg label to black\n",
    "    labeled_img[label_hue==0] = 0\n",
    "    return labeled_img\n",
    "\n",
    "# https://www.datacamp.com/community/tutorials/matplotlib-3d-volumetric-data\n",
    "def remove_keymap_conflicts(new_keys_set):\n",
    "    for prop in plt.rcParams:\n",
    "        if prop.startswith('keymap.'):\n",
    "            keys = plt.rcParams[prop]\n",
    "            remove_list = set(keys) & new_keys_set\n",
    "            for key in remove_list:\n",
    "                keys.remove(key)\n",
    "\n",
    "def multi_slice_viewer(volume):\n",
    "    remove_keymap_conflicts({'j', 'k'})\n",
    "    fig, ax = plt.subplots()\n",
    "    ax.volume = volume\n",
    "    ax.index = volume.shape[0] // 2\n",
    "    cc_volume = connected_component_label_2D(volume[ax.index])\n",
    "    ax.imshow(cc_volume, cmap='gray')\n",
    "    ax.set_title('z=%i/%i' % (ax.index+1, z))\n",
    "    fig.canvas.mpl_connect('key_press_event', process_key)\n",
    "\n",
    "def process_key(event):\n",
    "    fig = event.canvas.figure\n",
    "    ax = fig.axes[0]\n",
    "    if event.key == 'j':\n",
    "        previous_slice(ax)\n",
    "    elif event.key == 'k':\n",
    "        next_slice(ax)\n",
    "    fig.canvas.draw()\n",
    "\n",
    "def previous_slice(ax):\n",
    "    volume = ax.volume\n",
    "    ax.index = (ax.index - 1) % volume.shape[0]  # wrap around using %\n",
    "    cc_volume = connected_component_label_2D(volume[ax.index])\n",
    "    ax.images[0].set_array(cc_volume)\n",
    "    ax.set_title('z=%i/%i' % (ax.index+1, z))\n",
    "\n",
    "def next_slice(ax):\n",
    "    volume = ax.volume\n",
    "    ax.index = (ax.index + 1) % volume.shape[0]\n",
    "    cc_volume = connected_component_label_2D(volume[ax.index])\n",
    "    ax.images[0].set_array(cc_volume)\n",
    "    ax.set_title('z=%i/%i' % (ax.index+1, z))"
   ]
  },
  {
   "cell_type": "markdown",
   "id": "132d54e0",
   "metadata": {},
   "source": [
    "### Read the data of the segmented head and whole cell"
   ]
  },
  {
   "cell_type": "code",
   "execution_count": 4,
   "id": "e6bdcb29",
   "metadata": {},
   "outputs": [
    {
     "ename": "NameError",
     "evalue": "name 'io' is not defined",
     "output_type": "error",
     "traceback": [
      "\u001b[1;31m---------------------------------------------------------------------------\u001b[0m",
      "\u001b[1;31mNameError\u001b[0m                                 Traceback (most recent call last)",
      "\u001b[1;32m<ipython-input-4-f826d3abce3b>\u001b[0m in \u001b[0;36m<module>\u001b[1;34m\u001b[0m\n\u001b[0;32m      1\u001b[0m \u001b[1;31m# t, z, y, x are the same for the head and whole cell segmentations\u001b[0m\u001b[1;33m\u001b[0m\u001b[1;33m\u001b[0m\u001b[1;33m\u001b[0m\u001b[0m\n\u001b[1;32m----> 2\u001b[1;33m \u001b[0m_\u001b[0m\u001b[1;33m,\u001b[0m \u001b[0mt\u001b[0m\u001b[1;33m,\u001b[0m \u001b[0mz\u001b[0m\u001b[1;33m,\u001b[0m \u001b[0my\u001b[0m\u001b[1;33m,\u001b[0m \u001b[0mx\u001b[0m \u001b[1;33m=\u001b[0m \u001b[0mread\u001b[0m\u001b[1;33m(\u001b[0m\u001b[1;34m'segmentation/sperm00068_t1_146_segmentation_head.tif'\u001b[0m\u001b[1;33m)\u001b[0m\u001b[1;33m\u001b[0m\u001b[1;33m\u001b[0m\u001b[0m\n\u001b[0m\u001b[0;32m      3\u001b[0m \u001b[1;33m\u001b[0m\u001b[0m\n\u001b[0;32m      4\u001b[0m \u001b[0mprint\u001b[0m\u001b[1;33m(\u001b[0m\u001b[1;34m'Slices in Z:'\u001b[0m\u001b[1;33m,\u001b[0m \u001b[0mz\u001b[0m\u001b[1;33m)\u001b[0m\u001b[1;33m\u001b[0m\u001b[1;33m\u001b[0m\u001b[0m\n\u001b[0;32m      5\u001b[0m \u001b[0mprint\u001b[0m\u001b[1;33m(\u001b[0m\u001b[1;34m'Time steps:'\u001b[0m\u001b[1;33m,\u001b[0m \u001b[0mt\u001b[0m\u001b[1;33m)\u001b[0m\u001b[1;33m\u001b[0m\u001b[1;33m\u001b[0m\u001b[0m\n",
      "\u001b[1;32m<ipython-input-3-5fde98fd51cb>\u001b[0m in \u001b[0;36mread\u001b[1;34m(filename)\u001b[0m\n\u001b[0;32m      1\u001b[0m \u001b[1;31m# Define functions\u001b[0m\u001b[1;33m\u001b[0m\u001b[1;33m\u001b[0m\u001b[1;33m\u001b[0m\u001b[0m\n\u001b[0;32m      2\u001b[0m \u001b[1;32mdef\u001b[0m \u001b[0mread\u001b[0m\u001b[1;33m(\u001b[0m\u001b[0mfilename\u001b[0m\u001b[1;33m)\u001b[0m\u001b[1;33m:\u001b[0m\u001b[1;33m\u001b[0m\u001b[1;33m\u001b[0m\u001b[0m\n\u001b[1;32m----> 3\u001b[1;33m     \u001b[0mvolume_time\u001b[0m \u001b[1;33m=\u001b[0m \u001b[0mio\u001b[0m\u001b[1;33m.\u001b[0m\u001b[0mimread\u001b[0m\u001b[1;33m(\u001b[0m\u001b[0mfilename\u001b[0m\u001b[1;33m)\u001b[0m\u001b[1;33m\u001b[0m\u001b[1;33m\u001b[0m\u001b[0m\n\u001b[0m\u001b[0;32m      4\u001b[0m     \u001b[0mt\u001b[0m\u001b[1;33m,\u001b[0m\u001b[0mz\u001b[0m\u001b[1;33m,\u001b[0m\u001b[0mx\u001b[0m\u001b[1;33m,\u001b[0m\u001b[0my\u001b[0m \u001b[1;33m=\u001b[0m \u001b[0mvolume_time\u001b[0m\u001b[1;33m.\u001b[0m\u001b[0mshape\u001b[0m\u001b[1;33m\u001b[0m\u001b[1;33m\u001b[0m\u001b[0m\n\u001b[0;32m      5\u001b[0m     \u001b[1;32mreturn\u001b[0m \u001b[0mvolume_time\u001b[0m\u001b[1;33m,\u001b[0m\u001b[0mt\u001b[0m\u001b[1;33m,\u001b[0m\u001b[0mz\u001b[0m\u001b[1;33m,\u001b[0m\u001b[0mx\u001b[0m\u001b[1;33m,\u001b[0m\u001b[0my\u001b[0m\u001b[1;33m\u001b[0m\u001b[1;33m\u001b[0m\u001b[0m\n",
      "\u001b[1;31mNameError\u001b[0m: name 'io' is not defined"
     ]
    }
   ],
   "source": [
    "# t, z, y, x are the same for the head and whole cell segmentations\n",
    "_, t, z, y, x = read('segmentation/sperm00068_t1_146_segmentation_head.tif')\n",
    "\n",
    "print('Slices in Z:', z)\n",
    "print('Time steps:', t)\n",
    "print()\n",
    "print(\"Rows or Height of frame:\", y)\n",
    "print(\"Columns or Width of frame:\", x)"
   ]
  },
  {
   "cell_type": "code",
   "execution_count": null,
   "id": "994189e5",
   "metadata": {},
   "outputs": [],
   "source": [
    "volume_time_head = io.imread('segmentation/sperm00068_t1_146_segmentation_head.tif')\n",
    "volume_time_cell = io.imread('segmentation/sperm00068_t1_146_segmentation_cell.tif')"
   ]
  },
  {
   "cell_type": "markdown",
   "id": "9c5972d1",
   "metadata": {},
   "source": [
    "### Connected components in 2D\n",
    "\n",
    "https://www.pyimagesearch.com/2021/02/22/opencv-connected-component-labeling-and-analysis/"
   ]
  },
  {
   "cell_type": "code",
   "execution_count": null,
   "id": "6c10f4e9",
   "metadata": {
    "scrolled": false
   },
   "outputs": [],
   "source": [
    "multi_slice_viewer(volume_time_head[time_frame])"
   ]
  },
  {
   "cell_type": "markdown",
   "id": "cba17bf2",
   "metadata": {},
   "source": [
    "### Connected components in 3D\n",
    "\n",
    "https://github.com/seung-lab/connected-components-3d\n",
    "\n",
    "To change the size of the z axis:\n",
    "https://stackoverflow.com/questions/13685386/matplotlib-equal-unit-length-with-equal-aspect-ratio-z-axis-is-not-equal-to"
   ]
  },
  {
   "cell_type": "code",
   "execution_count": null,
   "id": "c3321a08",
   "metadata": {},
   "outputs": [],
   "source": [
    "labels = cc3d.connected_components(volume_time_cell[time_frame])\n",
    "\n",
    "fig = plt.figure()\n",
    "ax = plt.axes(projection ='3d')\n",
    "ax.set_box_aspect([1,1,0.5])\n",
    "\n",
    "for l in range(1, np.max(labels)+1): #assuming label=0 is always the background\n",
    "    k, j, i = np.where(labels==l) #k refers to the z direction, j to the y and i to the x\n",
    "    j = y-j #The y axis is inverted with respect to how it is seen when printing the image (bc imshow flips the y axis)\n",
    "    ax.plot3D(i, j, k, 'o', label='Label %i'%l)\n",
    "\n",
    "ax.legend()\n",
    "ax.set_xlabel('x'); ax.set_ylabel('y'); ax.set_zlabel('z')\n",
    "ax.set_xlim(0,x); ax.set_ylim(0,y)\n",
    "ax.set_title('Connected components in 3D')\n",
    "plt.show()"
   ]
  },
  {
   "cell_type": "code",
   "execution_count": null,
   "id": "5df051eb",
   "metadata": {},
   "outputs": [],
   "source": [
    "# Choose the label we want to do the PCA of\n",
    "k, j, i = np.where(labels==1) #k refers to the z direction, j to the y and i to the x\n",
    "j = y-j"
   ]
  },
  {
   "cell_type": "markdown",
   "id": "3b2598ea",
   "metadata": {},
   "source": [
    "## PCA"
   ]
  },
  {
   "cell_type": "code",
   "execution_count": null,
   "id": "93ce20c8",
   "metadata": {
    "scrolled": true
   },
   "outputs": [],
   "source": [
    "X = np.array([i, j, k])\n",
    "\n",
    "covMatrix = np.cov(X, bias=True) #bias is True to calculate the population covariance and not the sample one\n",
    "eigval, eigvec = np.linalg.eig(covMatrix)\n",
    "print(eigval)\n",
    "print(eigvec) #each column is a new vector --> a row is all the i\n",
    "\n",
    "# The vectors shown are the eigenvectors of the covariance matrix scaled by the square root of the corresponding\n",
    "# eigenvalue, and shifted so their tails are at the mean.\n",
    "vec = eigvec * np.sqrt(eigval)\n",
    "print(vec)"
   ]
  },
  {
   "cell_type": "code",
   "execution_count": null,
   "id": "a8b41759",
   "metadata": {},
   "outputs": [],
   "source": [
    "origin = np.mean(X, axis=1)\n",
    "\n",
    "# Show the vectors\n",
    "fig = plt.figure()\n",
    "ax = plt.axes(projection ='3d')\n",
    "ax.plot3D(i, j, k, 'o')\n",
    "ax.quiver(*origin, vec[0,:], vec[1,:], vec[2,:], color='k')\n",
    "ax.set_xlabel('x'); ax.set_ylabel('y'); ax.set_zlabel('z')\n",
    "plt.show()"
   ]
  },
  {
   "cell_type": "code",
   "execution_count": null,
   "id": "dec4198f",
   "metadata": {},
   "outputs": [],
   "source": [
    "# length of each vector\n",
    "print(np.sqrt(np.sum((vec)**2, axis=0))) #should give the same result as\n",
    "print(np.sqrt(eigval)) #because the eigenvectors are unitary"
   ]
  },
  {
   "cell_type": "markdown",
   "id": "f6f8be38",
   "metadata": {},
   "source": [
    "# Finding the midpiece center of mass\n",
    "\n",
    "By dilating the head two times and seeing where there is cell, we should be able to find the neck and it's CoM."
   ]
  },
  {
   "cell_type": "code",
   "execution_count": null,
   "id": "454a5443",
   "metadata": {},
   "outputs": [],
   "source": [
    "time_frame = 89\n",
    "z_frame = 4\n",
    "\n",
    "img_head = volume_time_head[time_frame][z_frame]\n",
    "img_head = img_head.astype('float64')\n",
    "img_head[np.where(img_head>0)]=1\n",
    "\n",
    "img_cell = volume_time_cell[time_frame][z_frame]\n",
    "img_cell = img_cell.astype('float64')\n",
    "img_cell[np.where(img_cell>0)]=1\n",
    "\n",
    "# Get a Cross Shaped Kernel\n",
    "kernel = cv2.getStructuringElement(cv2.MORPH_CROSS, (3,3))\n",
    "\n",
    "dilation1 = cv2.dilate(img_head,kernel,iterations = 5)\n",
    "dilation2 = cv2.dilate(img_head,kernel,iterations = 10)\n",
    "dilation3 = cv2.dilate(img_head,kernel,iterations = 15)"
   ]
  },
  {
   "cell_type": "code",
   "execution_count": null,
   "id": "659d34b5",
   "metadata": {
    "scrolled": false
   },
   "outputs": [],
   "source": [
    "band1 = dilation2 - dilation1 + img_cell\n",
    "band2 = dilation3 - dilation2 + img_cell\n",
    "\n",
    "y1,x1 = np.mean(np.where(band1==2), axis=1)\n",
    "y2,x2 = np.mean(np.where(band2==2), axis=1)\n",
    "\n",
    "plt.imshow(band1, cmap='gray')\n",
    "#plt.imshow(band2, cmap='gray')\n",
    "#plt.quiver(x1, y1, x2-x1, y2-y1, color='b')\n",
    "plt.plot(x1, y1, 'r.')\n",
    "plt.plot(x2, y2, 'b.')\n",
    "plt.show()"
   ]
  },
  {
   "cell_type": "markdown",
   "id": "613e1910",
   "metadata": {},
   "source": [
    "### Dilating in 3D"
   ]
  },
  {
   "cell_type": "code",
   "execution_count": null,
   "id": "1dafdc3a",
   "metadata": {},
   "outputs": [],
   "source": [
    "def find_neck(time_frame, img_head, img_cell):\n",
    "    img_head = img_head.astype('bool')\n",
    "    img_cell = img_cell.astype('bool')\n",
    "\n",
    "    dilation1 = ndi.binary_dilation(img_head, morphology.ball(radius=2), iterations=4)\n",
    "    dilation2 = ndi.binary_dilation(img_head, morphology.ball(radius=2), iterations=6)\n",
    "\n",
    "    band1 = dilation2^dilation1\n",
    "    z,y,x = np.mean(np.where(band1&img_cell==True), axis=1)\n",
    "    \n",
    "    return x,y,z\n",
    "\n",
    "def find_tail(time_frame, img_head, img_cell):\n",
    "    img_head = img_head.astype('bool')\n",
    "    img_cell = img_cell.astype('bool')\n",
    "\n",
    "    dilation1 = ndi.binary_dilation(img_head, morphology.ball(radius=2), iterations=6)\n",
    "    dilation2 = ndi.binary_dilation(img_head, morphology.ball(radius=2), iterations=8)\n",
    "\n",
    "    band1 = dilation2^dilation1\n",
    "    z1,y1,x1 = np.mean(np.where(band1&img_cell==True), axis=1)\n",
    "    \n",
    "    return x1,y1,z1"
   ]
  },
  {
   "cell_type": "code",
   "execution_count": null,
   "id": "767bbac7",
   "metadata": {},
   "outputs": [],
   "source": [
    "time_frame = 89\n",
    "\n",
    "img_head = volume_time_head[time_frame]\n",
    "img_cell = volume_time_cell[time_frame]\n",
    "\n",
    "neck = find_neck(time_frame, img_head, img_cell)"
   ]
  },
  {
   "cell_type": "markdown",
   "id": "b3d0ec17",
   "metadata": {},
   "source": [
    "### PCA for all the time frames"
   ]
  },
  {
   "cell_type": "code",
   "execution_count": null,
   "id": "620dfb62",
   "metadata": {},
   "outputs": [],
   "source": [
    "# Create an animation for all the timeframes\n",
    "# Segmented points in blue, their coordinate system in black and the neck in red\n",
    "fig = plt.figure()\n",
    "ax = plt.axes(projection ='3d')\n",
    "ax.set_box_aspect([1,1,0.3])\n",
    "history_x = []; history_y = []; history_z = []\n",
    "\n",
    "def anim3D(time_frame):\n",
    "    img_head = volume_time_head[time_frame]\n",
    "    img_cell = volume_time_cell[time_frame]\n",
    "    \n",
    "    labels = cc3d.connected_components(img_head)\n",
    "    if np.max(labels>0):\n",
    "        k, j, i = np.where(labels==1) #k refers to the z direction, j to the y and i to the x\n",
    "        j = y-j\n",
    "        X = np.array([i, j, k])\n",
    "        origin = np.mean(X, axis=1)\n",
    "        \n",
    "        x_neck,y_neck,z_neck = find_neck(time_frame, img_head, img_cell)\n",
    "        x_tail,y_tail,z_tail = find_tail(time_frame, img_head, img_cell)\n",
    "        history_x.append(x_neck); history_y.append(y_neck); history_z.append(z_neck)\n",
    "\n",
    "        covMatrix = np.cov(X, bias=True) #bias is True to calculate the population covariance and not the sample one\n",
    "        eigval, eigvec = np.linalg.eig(covMatrix)\n",
    "        vec = eigvec * np.sqrt(eigval)\n",
    "        \n",
    "        if (time_frame%1==0):\n",
    "            ax.clear()\n",
    "            ax.text2D(0.05, 0.95, 't = %i' % time_frame, transform=ax.transAxes) #placement (0,0) would be the bottom left, (0,1) would be the top left\n",
    "            ax.plot3D(i, j, k, 'o')\n",
    "            ax.plot3D(y_neck, x_neck, z_neck, 'ro')\n",
    "            #ax.plot(history_x, history_y, history_z, color='orange') \n",
    "            #ax.scatter(x_tail, y_tail, z_tail, c='b')\n",
    "            ax.quiver(*origin, vec[0,:], vec[1,:], vec[2,:], color='k')\n",
    "            ax.set_xlabel('x'); ax.set_ylabel('y'); ax.set_zlabel('z')\n",
    "            ax.set_xlim(0,x); ax.set_ylim(0,y); ax.set_zlim(0,z)\n",
    "            plt.show()\n",
    "    \n",
    "    return 0\n",
    "\n",
    "ani = animation.FuncAnimation(fig, anim3D, t+1, interval=100, repeat=False, blit=True)"
   ]
  },
  {
   "cell_type": "markdown",
   "id": "db30531d",
   "metadata": {},
   "source": [
    "### In the head's coordinate system"
   ]
  },
  {
   "cell_type": "code",
   "execution_count": null,
   "id": "9983081d",
   "metadata": {},
   "outputs": [],
   "source": [
    "def cartesian_to_spherical(x,y,z):\n",
    "    r = np.sqrt(x**2+y**2+z**2)\n",
    "    if x>0:\n",
    "        phi = np.arctan(y/x)\n",
    "    elif x<0:\n",
    "        phi = np.arctan(y/x) + np.pi\n",
    "    else:\n",
    "        phi = np.pi/2 \n",
    "    theta = np.arccos(z/r)\n",
    "    return r,phi,theta\n",
    "\n",
    "def spherical_to_cartesian(r,phi,theta):\n",
    "    x = r*np.sin(theta)*np.cos(phi)\n",
    "    y = r*np.sin(theta)*np.sin(phi)\n",
    "    z = r*np.cos(theta)\n",
    "    return x,y,z\n",
    "\n",
    "def plot_in_head_coord(origin, eigvec, p):\n",
    "    # First we calculate the spherical coordinates of the largest axis of the head\n",
    "    x,y,z = eigvec[:,0] #First eigenvector, we calculate the rotation always with it \n",
    "    r,phi,theta = cartesian_to_spherical(x,y,z)\n",
    "    print(f'orig: {r}, {phi}, {theta}')\n",
    "\n",
    "    # Then, we calculate the distance of the point to the new set of axis and the spherical coordinates of the point\n",
    "    d = p - origin\n",
    "    r_p,phi_p,theta_p = cartesian_to_spherical(*d)\n",
    "    print(f'end: {r_p}, {phi_p}, {theta_p}')\n",
    "    \n",
    "    # Now, we calculate the new coordinates\n",
    "    x_p,y_p,z_p = spherical_to_cartesian(r_p,-phi+phi_p,-theta+theta_p)\n",
    "\n",
    "    return x_p,y_p,z_p"
   ]
  },
  {
   "cell_type": "code",
   "execution_count": null,
   "id": "08500a6d",
   "metadata": {},
   "outputs": [],
   "source": [
    "# Create an animation for all the timeframes of the neck in the head's coordinate system\n",
    "fig = plt.figure()\n",
    "ax = plt.axes(projection ='3d')\n",
    "ax.set_box_aspect([1,1,0.3])\n",
    "history_x = []; history_y = []; history_z = []\n",
    "\n",
    "def anim3D(time_frame):\n",
    "    img_head = volume_time_head[time_frame]\n",
    "    img_cell = volume_time_cell[time_frame]\n",
    "    \n",
    "    labels = cc3d.connected_components(img_head)\n",
    "    if np.max(labels>0):\n",
    "        k, j, i = np.where(labels==1) #k refers to the z direction, j to the y and i to the x\n",
    "        j = y-j\n",
    "        X = np.array([i, j, k])\n",
    "        origin = np.mean(X, axis=1)\n",
    "        \n",
    "        x_neck,y_neck,z_neck = find_neck(time_frame, img_head, img_cell)\n",
    "\n",
    "        covMatrix = np.cov(X, bias=True) #bias is True to calculate the population covariance and not the sample one\n",
    "        eigval, eigvec = np.linalg.eig(covMatrix)\n",
    "        vec = eigvec * np.sqrt(eigval)\n",
    "        \n",
    "        R = eigvec\n",
    "        p = neck - origin\n",
    "        new_p = p@R\n",
    "        \n",
    "        history_x.append(new_p[0]); history_y.append(new_p[1]); history_z.append(new_p[2])\n",
    "        \n",
    "        if (time_frame%1==0):\n",
    "            ax.clear()\n",
    "            ax.text2D(0.05, 0.95, 't = %i' % time_frame, transform=ax.transAxes) #placement (0,0) would be the bottom left, (0,1) would be the top left\n",
    "            ax.plot(*new_p, 'r.')\n",
    "            ax.plot(history_x, history_y, history_z, color='orange', linestyle='-') \n",
    "            ax.set_xlabel('x'); ax.set_ylabel('y'); ax.set_zlabel('z')\n",
    "            ax.set_xlim(-100,100); ax.set_ylim(-100,100); ax.set_zlim(-10,10)\n",
    "            plt.show()\n",
    "    \n",
    "    return 0\n",
    "\n",
    "ani = animation.FuncAnimation(fig, anim3D, t+1, interval=100, repeat=False, blit=True)"
   ]
  },
  {
   "cell_type": "code",
   "execution_count": null,
   "id": "8f113ce5",
   "metadata": {
    "scrolled": false
   },
   "outputs": [],
   "source": [
    "orig = np.array([0,0,0])\n",
    "vec = np.array([1,0,0])\n",
    "p = np.array([1,2,3])\n",
    "\n",
    "fig = plt.figure()\n",
    "ax = plt.axes(projection ='3d')\n",
    "ax.plot3D([0,vec[0]],[0,vec[1]], [0,vec[2]], 'k-')\n",
    "ax.plot3D([0,0],[0,1], [0,0], 'k-')\n",
    "ax.plot3D([0,0],[0,0], [0,1], 'k-')\n",
    "ax.plot3D(*p, 'bo')\n",
    "x,y,z = plot_in_head_coord(orig, vec, p)\n",
    "ax.plot(x,y,z, 'ro')\n",
    "ax.set_xlabel('x'); ax.set_ylabel('y'); ax.set_zlabel('z')"
   ]
  },
  {
   "cell_type": "code",
   "execution_count": null,
   "id": "3d5134a8",
   "metadata": {},
   "outputs": [],
   "source": [
    "# Create an animation for all the timeframes in the head's coordinate system\n",
    "# Segmented points in blue, their coordinate system in black and the neck in red\n",
    "fig = plt.figure()\n",
    "ax = plt.axes(projection ='3d')\n",
    "ax.set_box_aspect([1,1,0.3])\n",
    "\n",
    "def anim3D(time_frame):\n",
    "    img_head = volume_time_head[time_frame]\n",
    "    img_cell = volume_time_cell[time_frame]\n",
    "    \n",
    "    labels = cc3d.connected_components(img_head)\n",
    "    if np.max(labels>0):\n",
    "        k, j, i = np.where(labels==1) #k refers to the z direction, j to the y and i to the x\n",
    "        j = y-j\n",
    "        X = np.array([i, j, k])\n",
    "        origin = np.mean(X, axis=1)\n",
    "        \n",
    "        neck = find_neck(time_frame, img_head, img_cell)\n",
    "        tail = find_tail(time_frame, img_head, img_cell)        \n",
    "\n",
    "        covMatrix = np.cov(X, bias=True) #bias is True to calculate the population covariance and not the sample one\n",
    "        eigval, eigvec = np.linalg.eig(covMatrix)\n",
    "        vec = eigvec * np.sqrt(eigval)\n",
    "        \n",
    "        R = eigvec\n",
    "        p = neck - origin\n",
    "        \n",
    "        if (time_frame%1==0):\n",
    "            ax.clear()\n",
    "            ax.text2D(0.05, 0.95, 't = %i' % time_frame, transform=ax.transAxes) #placement (0,0) would be the bottom left, (0,1) would be the top left\n",
    "            #ax.plot3D(i, j, k, 'o')\n",
    "            #ax.scatter(*neck_head_coord, c='r')\n",
    "            #ax.scatter(*tail_head_coord, c='b')\n",
    "            ax.plot(*(p@R), 'bo')\n",
    "            for l in range(3):\n",
    "                ax.plot3D([0,R[0,l]], [0,R[1,l]], [0,R[2,l]])\n",
    "            ax.set_xlabel('x'); ax.set_ylabel('y'); ax.set_zlabel('z')\n",
    "            plt.show()\n",
    "    \n",
    "    return 0\n",
    "\n",
    "ani = animation.FuncAnimation(fig, anim3D, t+1, interval=100, repeat=False, blit=True)"
   ]
  },
  {
   "cell_type": "code",
   "execution_count": null,
   "id": "167b886d",
   "metadata": {},
   "outputs": [],
   "source": []
  }
 ],
 "metadata": {
  "kernelspec": {
   "display_name": "Python 3 (ipykernel)",
   "language": "python",
   "name": "python3"
  },
  "language_info": {
   "codemirror_mode": {
    "name": "ipython",
    "version": 3
   },
   "file_extension": ".py",
   "mimetype": "text/x-python",
   "name": "python",
   "nbconvert_exporter": "python",
   "pygments_lexer": "ipython3",
   "version": "3.7.11"
  }
 },
 "nbformat": 4,
 "nbformat_minor": 5
}
